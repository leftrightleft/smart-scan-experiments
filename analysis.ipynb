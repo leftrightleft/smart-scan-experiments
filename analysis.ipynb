{
 "cells": [
  {
   "cell_type": "code",
   "execution_count": 36,
   "id": "8aab94b1",
   "metadata": {},
   "outputs": [
    {
     "name": "stdout",
     "output_type": "stream",
     "text": [
      "Requirement already satisfied: python-dotenv in ./venv/lib/python3.7/site-packages (0.21.1)\n",
      "\u001b[33mWARNING: You are using pip version 20.1.1; however, version 23.2.1 is available.\n",
      "You should consider upgrading via the '/Users/leftrightleft/Code/leftrightleft/smart-scan-experiments/venv/bin/python3 -m pip install --upgrade pip' command.\u001b[0m\n",
      "Collecting openai\n",
      "  Using cached openai-0.28.1-py3-none-any.whl (76 kB)\n",
      "Requirement already satisfied: typing-extensions; python_version < \"3.8\" in ./venv/lib/python3.7/site-packages (from openai) (4.7.1)\n",
      "Collecting tqdm\n",
      "  Using cached tqdm-4.66.1-py3-none-any.whl (78 kB)\n",
      "Requirement already satisfied: requests>=2.20 in ./venv/lib/python3.7/site-packages (from openai) (2.31.0)\n",
      "Collecting aiohttp\n",
      "  Using cached aiohttp-3.8.5-cp37-cp37m-macosx_10_9_x86_64.whl (362 kB)\n",
      "Requirement already satisfied: certifi>=2017.4.17 in ./venv/lib/python3.7/site-packages (from requests>=2.20->openai) (2023.7.22)\n",
      "Requirement already satisfied: charset-normalizer<4,>=2 in ./venv/lib/python3.7/site-packages (from requests>=2.20->openai) (3.3.0)\n",
      "Requirement already satisfied: idna<4,>=2.5 in ./venv/lib/python3.7/site-packages (from requests>=2.20->openai) (3.4)\n",
      "Requirement already satisfied: urllib3<3,>=1.21.1 in ./venv/lib/python3.7/site-packages (from requests>=2.20->openai) (2.0.6)\n",
      "Collecting multidict<7.0,>=4.5\n",
      "  Using cached multidict-6.0.4-cp37-cp37m-macosx_10_9_x86_64.whl (28 kB)\n",
      "Collecting async-timeout<5.0,>=4.0.0a3\n",
      "  Using cached async_timeout-4.0.3-py3-none-any.whl (5.7 kB)\n",
      "Collecting aiosignal>=1.1.2\n",
      "  Using cached aiosignal-1.3.1-py3-none-any.whl (7.6 kB)\n",
      "Collecting frozenlist>=1.1.1\n",
      "  Using cached frozenlist-1.3.3-cp37-cp37m-macosx_10_9_x86_64.whl (36 kB)\n",
      "Collecting asynctest==0.13.0; python_version < \"3.8\"\n",
      "  Using cached asynctest-0.13.0-py3-none-any.whl (26 kB)\n",
      "Collecting yarl<2.0,>=1.0\n",
      "  Using cached yarl-1.9.2-cp37-cp37m-macosx_10_9_x86_64.whl (64 kB)\n",
      "Requirement already satisfied: attrs>=17.3.0 in ./venv/lib/python3.7/site-packages (from aiohttp->openai) (23.1.0)\n",
      "Requirement already satisfied: importlib-metadata; python_version < \"3.8\" in ./venv/lib/python3.7/site-packages (from attrs>=17.3.0->aiohttp->openai) (6.7.0)\n",
      "Requirement already satisfied: zipp>=0.5 in ./venv/lib/python3.7/site-packages (from importlib-metadata; python_version < \"3.8\"->attrs>=17.3.0->aiohttp->openai) (3.15.0)\n",
      "Installing collected packages: tqdm, multidict, async-timeout, frozenlist, aiosignal, asynctest, yarl, aiohttp, openai\n",
      "Successfully installed aiohttp-3.8.5 aiosignal-1.3.1 async-timeout-4.0.3 asynctest-0.13.0 frozenlist-1.3.3 multidict-6.0.4 openai-0.28.1 tqdm-4.66.1 yarl-1.9.2\n",
      "\u001b[33mWARNING: You are using pip version 20.1.1; however, version 23.2.1 is available.\n",
      "You should consider upgrading via the '/Users/leftrightleft/Code/leftrightleft/smart-scan-experiments/venv/bin/python3 -m pip install --upgrade pip' command.\u001b[0m\n"
     ]
    }
   ],
   "source": [
    "! pip install python-dotenv \n",
    "! pip install openai"
   ]
  },
  {
   "cell_type": "code",
   "execution_count": 37,
   "id": "5596afab",
   "metadata": {},
   "outputs": [],
   "source": [
    "from dotenv import load_dotenv\n",
    "import openai\n",
    "import os\n",
    "import json"
   ]
  },
  {
   "cell_type": "markdown",
   "id": "76d3d081",
   "metadata": {},
   "source": [
    "### Assign vars"
   ]
  },
  {
   "cell_type": "code",
   "execution_count": 39,
   "id": "b3e1ebc7",
   "metadata": {},
   "outputs": [],
   "source": [
    "load_dotenv()\n",
    "openai.api_key = os.environ.get('OPENAI_KEY')\n",
    "model = 'gpt-3.5-turbo'\n",
    "prompt = \"\"\"You are a decision tool which decides whether or not a static analysis should occur using CodeQL on the following code diff.  \n",
    "  You will decide yes for any changes to the operation of the application.  You will decide no if the change doesn't impact the \n",
    "  operation of the application.\n",
    "  \n",
    "  For example, a change that deletes a commented line of code would be a \"NO\".  A change that edits markdown in the repository \n",
    "  would be a \"NO\".  A change that adds a new variable would be a \"YES\". \n",
    "   \n",
    "  The code snippet provided will be a diff from a GitHub pull request. You will analyze the diff and give a response of yes or no \n",
    "  along with an explanation.  \n",
    "  \n",
    "  Yes indicates a static analysis should occur, no indicates there are no changes that could be a security concern. Your response \n",
    "  should be formatted in json format.  \"yes\" or \"no\" will be in a key called \"decision\". The reason for the decision will be in a \n",
    "  key called \"reason\". Keep the reason to two or three sentences. \n",
    "  \n",
    "  A response example: {\"decision\" : \"no\", \"reason\" : \"You are editing a markdown file. This change doesn't impact the operation of your application\"}'\n",
    "\"\"\"\n",
    "\n"
   ]
  },
  {
   "cell_type": "code",
   "execution_count": 35,
   "id": "fbb22fc6",
   "metadata": {},
   "outputs": [],
   "source": [
    "# Open files in diffs directory and read into a list\n",
    "def read_files(dir):\n",
    "    diffs_dir = dir\n",
    "    diffs = []\n",
    "    for filename in os.listdir(diffs_dir):\n",
    "        with open(os.path.join(diffs_dir, filename), 'r') as f:\n",
    "            diffs.append({\"name\":filename, \"content\":f.read()})\n",
    "    return diffs"
   ]
  },
  {
   "cell_type": "code",
   "execution_count": 48,
   "id": "943a67c1",
   "metadata": {},
   "outputs": [
    {
     "name": "stdout",
     "output_type": "stream",
     "text": [
      "filename: octodemo-demo-bookstore-elizabethbarrord-11 response: yes reason: A new method 'getBooksByTitle' has been added to the BookDatabase interface and implemented in the BookDatabaseImpl class. This change could impact the operation of the application and should undergo static analysis.\n",
      "filename: octodemo-elizabethbarrord-ghas-demo-8 response: no reason: This is a new workflow file added to the repository. It doesn't impact the operation of your application.\n",
      "filename: octodemo-fmadotto-ghas-108 response: yes reason: The diff is too large to analyze\n",
      "filename: octodemo-colind-bookstore-v5-11 response: yes reason: The code changes introduce a new method 'getBooksByTitle' in the 'BookDatabase' interface and its implementation in 'BookDatabaseImpl'. This change could impact the behavior of the application and should be analyzed for any security concerns.\n",
      "filename: octodemo-lf-bookstore-20230925-5 response: yes reason: A new method 'getBooksByAuthor' has been added to the BookDatabase interface and implemented in the BookDatabaseImpl class. This change could potentially impact the operation of the application and should be statically analyzed.\n",
      "filename: octodemo-ghas-policy-as-code-16 response: no reason: The only change in this diff is updating the version number of a dependency in the pom.xml file. This change does not impact the operation of the application.\n",
      "filename: octodemo-colind-bookstore-v5-16 response: yes reason: The code changes introduce a new method 'getBooksByTitle' in BookDatabase and add corresponding code in BookDatabaseImpl and BookService classes. This change impacts the operation of the application and a static analysis should be done to ensure the changes don't introduce any security concerns.\n",
      "filename: octodemo-demo-bookstore-elizabethbarrord-29 response: yes reason: The code diff adds a new method 'getBooksByTitle' to the 'BookDatabase' interface and implements it in the 'BookDatabaseImpl' class. It also adds a new public method 'searchBooks' to the 'BookService' class. These changes impact the application's functionality and should be analyzed using CodeQL.\n",
      "filename: octodemo-gei-import-test-repo-8 response: yes reason: The diff is too large to analyze\n",
      "filename: octodemo-logans-bookstore-sep-4 response: yes reason: The code diff includes a new method in the BookDatabase interface, a new implementation method in BookDatabaseImpl class, and a new method in the BookService class that calls the new implementation method. This change adds a new functionality to search books by author, which could potentially introduce new security vulnerabilities.\n"
     ]
    }
   ],
   "source": [
    "source_diffs = read_files('data/diffs_with_alerts')\n",
    "for diff in source_diffs[:10]:\n",
    "    if len(diff['content']) < 5000:\n",
    "        completion = openai.ChatCompletion.create(\n",
    "        model=model,\n",
    "        messages=[\n",
    "            {\"role\": \"system\", \"content\": prompt},\n",
    "            {\"role\": \"user\", \"content\": diff['content']},\n",
    "        ],\n",
    "        )\n",
    "        response = json.loads(completion.choices[0].message[\"content\"])\n",
    "    else:\n",
    "        response = {\"decision\" : \"yes\", \"reason\" : \"The diff is too large to analyze\"}\n",
    "    \n",
    "    print(f\"filename: {diff['name']} response: {response['decision']} reason: {response['reason']}\")"
   ]
  },
  {
   "cell_type": "code",
   "execution_count": null,
   "id": "6cebc8df",
   "metadata": {},
   "outputs": [],
   "source": []
  },
  {
   "cell_type": "code",
   "execution_count": null,
   "id": "f2114222",
   "metadata": {},
   "outputs": [],
   "source": []
  },
  {
   "cell_type": "code",
   "execution_count": null,
   "id": "6ae73972",
   "metadata": {},
   "outputs": [],
   "source": []
  },
  {
   "cell_type": "code",
   "execution_count": null,
   "id": "d78b23c8",
   "metadata": {},
   "outputs": [],
   "source": []
  },
  {
   "cell_type": "code",
   "execution_count": null,
   "id": "ab15e920",
   "metadata": {},
   "outputs": [],
   "source": []
  },
  {
   "cell_type": "code",
   "execution_count": null,
   "id": "5f9a9095",
   "metadata": {},
   "outputs": [],
   "source": []
  },
  {
   "cell_type": "markdown",
   "id": "aedc49a1",
   "metadata": {},
   "source": [
    "## Query OpenAI"
   ]
  },
  {
   "cell_type": "code",
   "execution_count": null,
   "id": "54c529df",
   "metadata": {},
   "outputs": [],
   "source": []
  },
  {
   "cell_type": "code",
   "execution_count": null,
   "id": "b298bf96",
   "metadata": {},
   "outputs": [],
   "source": []
  },
  {
   "cell_type": "code",
   "execution_count": null,
   "id": "8fda2778",
   "metadata": {},
   "outputs": [],
   "source": []
  },
  {
   "cell_type": "code",
   "execution_count": null,
   "id": "c04c8b25",
   "metadata": {},
   "outputs": [],
   "source": []
  }
 ],
 "metadata": {
  "kernelspec": {
   "display_name": "Python 3 (ipykernel)",
   "language": "python",
   "name": "python3"
  },
  "language_info": {
   "codemirror_mode": {
    "name": "ipython",
    "version": 3
   },
   "file_extension": ".py",
   "mimetype": "text/x-python",
   "name": "python",
   "nbconvert_exporter": "python",
   "pygments_lexer": "ipython3",
   "version": "3.7.9"
  }
 },
 "nbformat": 4,
 "nbformat_minor": 5
}
